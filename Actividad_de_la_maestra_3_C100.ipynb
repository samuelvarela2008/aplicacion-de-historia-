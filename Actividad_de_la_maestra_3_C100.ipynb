{
  "nbformat": 4,
  "nbformat_minor": 0,
  "metadata": {
    "colab": {
      "provenance": [],
      "toc_visible": true,
      "include_colab_link": true
    },
    "kernelspec": {
      "name": "python3",
      "display_name": "Python 3"
    },
    "language_info": {
      "name": "python"
    }
  },
  "cells": [
    {
      "cell_type": "markdown",
      "metadata": {
        "id": "view-in-github",
        "colab_type": "text"
      },
      "source": [
        "<a href=\"https://colab.research.google.com/github/samuelvarela2008/aplicacion-de-historia-/blob/main/Actividad_de_la_maestra_3_C100.ipynb\" target=\"_parent\"><img src=\"https://colab.research.google.com/assets/colab-badge.svg\" alt=\"Open In Colab\"/></a>"
      ]
    },
    {
      "cell_type": "markdown",
      "metadata": {
        "id": "YgezUsCPVn_G"
      },
      "source": [
        "### Mapeando tipo de dato:\t\n",
        "\n",
        "*   dict"
      ]
    },
    {
      "cell_type": "code",
      "metadata": {
        "colab": {
          "base_uri": "https://localhost:8080/"
        },
        "id": "imvG2wUNYBln",
        "outputId": "fdb2deda-6922-4daf-de69-17d6d69cb999"
      },
      "source": [
        "nombre = \"Darsh\"\n",
        "type(nombre)"
      ],
      "execution_count": null,
      "outputs": [
        {
          "output_type": "execute_result",
          "data": {
            "text/plain": [
              "str"
            ]
          },
          "metadata": {},
          "execution_count": 1
        }
      ]
    },
    {
      "cell_type": "code",
      "metadata": {
        "colab": {
          "base_uri": "https://localhost:8080/"
        },
        "id": "LDC_FoodYi3m",
        "outputId": "39bc46cc-513e-4cd1-e93b-65af1aac6c8b"
      },
      "source": [
        "info = [ ]\n",
        "type(info)"
      ],
      "execution_count": null,
      "outputs": [
        {
          "output_type": "execute_result",
          "data": {
            "text/plain": [
              "list"
            ]
          },
          "metadata": {},
          "execution_count": 2
        }
      ]
    },
    {
      "cell_type": "code",
      "metadata": {
        "id": "xA6BEwFCVnLi"
      },
      "source": [
        "person = {\n",
        "    \n",
        "}"
      ],
      "execution_count": null,
      "outputs": []
    },
    {
      "cell_type": "code",
      "metadata": {
        "colab": {
          "base_uri": "https://localhost:8080/"
        },
        "id": "lt5pPVn2V2p3",
        "outputId": "9bf9f389-32bf-4fee-8f66-185e52eb33a6"
      },
      "source": [
        "type(person)"
      ],
      "execution_count": null,
      "outputs": [
        {
          "output_type": "execute_result",
          "data": {
            "text/plain": [
              "dict"
            ]
          },
          "metadata": {},
          "execution_count": 4
        }
      ]
    },
    {
      "cell_type": "code",
      "metadata": {
        "id": "BDONbPS-Wdsj"
      },
      "source": [
        "person = {\n",
        "    \"nombre\": \"Darsh\",\n",
        "    \"teléfono\" : 9029190909,\n",
        "    \"correo\": \"dummy1email@gmail.com\",\n",
        "    \"dirección\": \"Sweet Home, Lane, City\"\n",
        "}"
      ],
      "execution_count": null,
      "outputs": []
    },
    {
      "cell_type": "code",
      "metadata": {
        "colab": {
          "base_uri": "https://localhost:8080/"
        },
        "id": "oGZjskG_XEt3",
        "outputId": "ee26fc22-1462-425a-aae2-6aa69e7b23e7"
      },
      "source": [
        "print(person[\"nombre\"])"
      ],
      "execution_count": null,
      "outputs": [
        {
          "output_type": "stream",
          "name": "stdout",
          "text": [
            "Darsh\n"
          ]
        }
      ]
    },
    {
      "cell_type": "markdown",
      "metadata": {
        "id": "zHZG3vKZzf7a"
      },
      "source": [
        "### **CLASES Y OBJETOS EN PYTHON**"
      ]
    },
    {
      "cell_type": "markdown",
      "metadata": {
        "id": "UWu3E3V806z3"
      },
      "source": [
        "**Syntax 1** : \n",
        "```\n",
        "class ClassName:\n",
        "\n",
        "    def __init__(self, attribute1, attribute2):\n",
        "      declaración(s)\n",
        "\n",
        "    def method_1():\n",
        "      declaración(s)\n",
        "\n",
        "    .......\n",
        "    .......\n",
        "    .......\n",
        "\n",
        "    def method_10(parameter1, parameter2):\n",
        "      declaración(s)\n",
        "    \n",
        "    .......\n",
        "\n",
        "    def method(parameter(s)):\n",
        "      declaración(s)\n",
        "```"
      ]
    },
    {
      "cell_type": "markdown",
      "metadata": {
        "id": "Q0YZnM9XPTWw"
      },
      "source": [
        "## Define una clase"
      ]
    },
    {
      "cell_type": "code",
      "metadata": {
        "id": "yxNq84dw3l9U"
      },
      "source": [
        "# Define la clase\n",
        "class Contact_Details:\n",
        "    # Define los atributos de la clase\n",
        "    def __init__(self, nombre, número_teléfono, correo, dirección):\n",
        "        self.contact_name = nombre\n",
        "        self.contact_number = número_teléfono\n",
        "        self.email = correo\n",
        "        self.contact_address = dirección\n",
        "\n",
        "        # Crea un dictionary de los detalles del contacto \n",
        "        self.person = {\n",
        "            \"nombre\": self.contact_name,\n",
        "            \"teléfono\" : self.contact_number,\n",
        "            \"correo\": self.email,\n",
        "            \"dirección\": self.contact_address\n",
        "        } \n",
        "\n",
        "    # Define los métodos de la clase\n",
        "    \n",
        "    # Ver todos los detalles de los contactos\n",
        "    def view_contact_details(self, contact_list):\n",
        "      print(contact_list)\n",
        "      \n",
        "\n",
        "    # Agrega los detalles del contacto a la lista    \n",
        "    def add_contact_details(self, contact_list):\n",
        "      contact_list.append(self.person)\n"
      ],
      "execution_count": 1,
      "outputs": []
    },
    {
      "cell_type": "code",
      "source": [],
      "metadata": {
        "id": "VGEgCitaYzwf"
      },
      "execution_count": null,
      "outputs": []
    },
    {
      "cell_type": "code",
      "metadata": {
        "id": "Soi7VZ4CLslO"
      },
      "source": [
        "# new_contact = Contact_Details()  #Esto arrojará un mensaje, ya que no se proporcionan los argumentos."
      ],
      "execution_count": null,
      "outputs": []
    },
    {
      "cell_type": "markdown",
      "metadata": {
        "id": "brI1OuBuPW_X"
      },
      "source": [
        "## Crea objetos"
      ]
    },
    {
      "cell_type": "code",
      "metadata": {
        "id": "ZPPjKpWr4bKk",
        "colab": {
          "base_uri": "https://localhost:8080/"
        },
        "outputId": "779f2a3b-0a0e-4dae-ce24-a1896fe91329"
      },
      "source": [
        "new_contact = Contact_Details('Preeti',8956478556,'preeti_dummy1@gmail.com', 'Delhi , India')\n",
        "\n",
        "print(new_contact)"
      ],
      "execution_count": null,
      "outputs": [
        {
          "output_type": "stream",
          "name": "stdout",
          "text": [
            "<__main__.Contact_Details object at 0x7fdee11c3090>\n"
          ]
        }
      ]
    },
    {
      "cell_type": "markdown",
      "metadata": {
        "id": "tjxhG60MP8GT"
      },
      "source": [
        "## Accediendo a los métodos de la clase\n",
        "\n",
        "Podemos acceder a los metodos de la clase utilizando el objeto y el operador do.\n",
        "\n",
        "\n",
        "\n",
        "```\n",
        "<object_name.method_name>\n",
        "```\n",
        "\n"
      ]
    },
    {
      "cell_type": "markdown",
      "metadata": {
        "id": "IjTMqxLOPgSI"
      },
      "source": [
        "## Agenda telefónica: La lista de los detalles del contacto"
      ]
    },
    {
      "cell_type": "code",
      "metadata": {
        "id": "k1jlkmmHPPp_"
      },
      "source": [
        "phonebook_list=[]"
      ],
      "execution_count": null,
      "outputs": []
    },
    {
      "cell_type": "code",
      "metadata": {
        "id": "-EsmjAIxQe-Z"
      },
      "source": [
        "new_contact = Contact_Details('Preeti',8956478556,'preeti_dummy1@gmail.com', 'Delhi , India')"
      ],
      "execution_count": null,
      "outputs": []
    },
    {
      "cell_type": "markdown",
      "metadata": {
        "id": "_8wgVsdcRQXi"
      },
      "source": [
        "### Agrega los detalles del contacto a la lista de la agenda telefónica."
      ]
    },
    {
      "cell_type": "code",
      "metadata": {
        "id": "y_TCCmTtPSFv"
      },
      "source": [
        "new_contact.add_contact_details(phonebook_list)"
      ],
      "execution_count": null,
      "outputs": []
    },
    {
      "cell_type": "markdown",
      "metadata": {
        "id": "P_arV5WARVWi"
      },
      "source": [
        "#### Ver detalles del contacto después de haber agregado la lista de la agenda telefónica."
      ]
    },
    {
      "cell_type": "code",
      "metadata": {
        "id": "p3dkAjyzSRaH",
        "colab": {
          "base_uri": "https://localhost:8080/"
        },
        "outputId": "a4fe360a-542a-4bba-877f-afae429f7ada"
      },
      "source": [
        "new_contact.view_contact_details(phonebook_list)"
      ],
      "execution_count": null,
      "outputs": [
        {
          "output_type": "stream",
          "name": "stdout",
          "text": [
            "[{'nombre': 'Preeti', 'teléfono': 8956478556, 'correo': 'preeti_dummy1@gmail.com', 'dirección': 'Delhi , India'}]\n"
          ]
        }
      ]
    },
    {
      "cell_type": "markdown",
      "metadata": {
        "id": "Sxf_Ul9rEAsl"
      },
      "source": [
        "#### Agregando los detalles del contacto de la segunda persona a la lista de la agenda telefónica."
      ]
    },
    {
      "cell_type": "code",
      "metadata": {
        "id": "L-Gge0hbSb5A",
        "colab": {
          "base_uri": "https://localhost:8080/"
        },
        "outputId": "f738c6ad-d10e-4905-ab37-0ad786650ff4"
      },
      "source": [
        "# Crea el objeto con los nuevos valores\n",
        "new_contact = Contact_Details('Shean',8956476333,'shean_dummy1@gmail.com', 'California , USA')\n",
        "\n",
        "# Agrega los detalles\n",
        "new_contact.add_contact_details(phonebook_list)\n",
        "\n",
        "# Ve los detalles\n",
        "new_contact.view_contact_details(phonebook_list)"
      ],
      "execution_count": null,
      "outputs": [
        {
          "output_type": "stream",
          "name": "stdout",
          "text": [
            "[{'nombre': 'Preeti', 'teléfono': 8956478556, 'correo': 'preeti_dummy1@gmail.com', 'dirección': 'Delhi , India'}, {'nombre': 'Shean', 'teléfono': 8956476333, 'correo': 'shean_dummy1@gmail.com', 'dirección': 'California , USA'}]\n"
          ]
        }
      ]
    }
  ]
}