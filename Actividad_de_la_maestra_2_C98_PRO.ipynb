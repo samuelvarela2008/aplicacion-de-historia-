{
  "nbformat": 4,
  "nbformat_minor": 0,
  "metadata": {
    "colab": {
      "provenance": [],
      "include_colab_link": true
    },
    "kernelspec": {
      "name": "python3",
      "display_name": "Python 3"
    },
    "language_info": {
      "name": "python"
    }
  },
  "cells": [
    {
      "cell_type": "markdown",
      "metadata": {
        "id": "view-in-github",
        "colab_type": "text"
      },
      "source": [
        "<a href=\"https://colab.research.google.com/github/samuelvarela2008/aplicacion-de-historia-/blob/main/Actividad_de_la_maestra_2_C98_PRO.ipynb\" target=\"_parent\"><img src=\"https://colab.research.google.com/assets/colab-badge.svg\" alt=\"Open In Colab\"/></a>"
      ]
    },
    {
      "cell_type": "markdown",
      "source": [
        "Tipos de datos de secuencia\n",
        "\n",
        "\n",
        "*   list\n",
        "*   range()\n",
        "\n"
      ],
      "metadata": {
        "id": "diCNz47t065W"
      }
    },
    {
      "cell_type": "markdown",
      "source": [
        "Declarando una lista vacía"
      ],
      "metadata": {
        "id": "OLz1qPUh1B8J"
      }
    },
    {
      "cell_type": "code",
      "source": [
        "list1 = []"
      ],
      "metadata": {
        "id": "-A97LFol1G3p"
      },
      "execution_count": null,
      "outputs": []
    },
    {
      "cell_type": "markdown",
      "source": [
        "Lista de números"
      ],
      "metadata": {
        "id": "7u4FvLg51LEL"
      }
    },
    {
      "cell_type": "code",
      "source": [
        "list1 = [90, 95, 92, 97, 99]"
      ],
      "metadata": {
        "id": "RknVjhWA1Ohn"
      },
      "execution_count": null,
      "outputs": []
    },
    {
      "cell_type": "code",
      "source": [
        "print(list1)"
      ],
      "metadata": {
        "colab": {
          "base_uri": "https://localhost:8080/"
        },
        "id": "G-3AsZ811TPG",
        "outputId": "c05e70f9-aa77-4877-91ec-5640f9a8c54d"
      },
      "execution_count": null,
      "outputs": [
        {
          "output_type": "stream",
          "name": "stdout",
          "text": [
            "[90, 95, 92, 97, 99]\n"
          ]
        }
      ]
    },
    {
      "cell_type": "markdown",
      "source": [
        "Verificando el tipo"
      ],
      "metadata": {
        "id": "7CVnl7Eg1jQd"
      }
    },
    {
      "cell_type": "code",
      "source": [
        "type(list1)"
      ],
      "metadata": {
        "colab": {
          "base_uri": "https://localhost:8080/"
        },
        "id": "qnzIKjGO1b1-",
        "outputId": "657ead4b-773c-44b7-8aff-3444f1573234"
      },
      "execution_count": null,
      "outputs": [
        {
          "output_type": "execute_result",
          "data": {
            "text/plain": [
              "list"
            ]
          },
          "metadata": {},
          "execution_count": 5
        }
      ]
    },
    {
      "cell_type": "markdown",
      "source": [
        "Largo de una lista"
      ],
      "metadata": {
        "id": "V7ZP_o4K1oI2"
      }
    },
    {
      "cell_type": "code",
      "source": [
        "len(list1)"
      ],
      "metadata": {
        "colab": {
          "base_uri": "https://localhost:8080/"
        },
        "id": "QA8EvqiZ1rxN",
        "outputId": "17007648-2917-4cae-f3df-84dfdeb2304a"
      },
      "execution_count": null,
      "outputs": [
        {
          "output_type": "execute_result",
          "data": {
            "text/plain": [
              "5"
            ]
          },
          "metadata": {},
          "execution_count": 6
        }
      ]
    },
    {
      "cell_type": "markdown",
      "source": [
        "Lista de strings - cadena"
      ],
      "metadata": {
        "id": "7PQusUXW1uk8"
      }
    },
    {
      "cell_type": "code",
      "source": [
        "list2= [\"Byjus\", \"Programación\", \"Clases\"]"
      ],
      "metadata": {
        "id": "o_KwyQVX1uVR"
      },
      "execution_count": null,
      "outputs": []
    },
    {
      "cell_type": "code",
      "source": [
        "len(list2)"
      ],
      "metadata": {
        "colab": {
          "base_uri": "https://localhost:8080/"
        },
        "id": "WakNhveL13vw",
        "outputId": "c9a844be-e85d-4dc5-d2ab-37cc71848016"
      },
      "execution_count": null,
      "outputs": [
        {
          "output_type": "execute_result",
          "data": {
            "text/plain": [
              "3"
            ]
          },
          "metadata": {},
          "execution_count": 8
        }
      ]
    },
    {
      "cell_type": "code",
      "source": [
        "list2"
      ],
      "metadata": {
        "colab": {
          "base_uri": "https://localhost:8080/"
        },
        "id": "2D8LeZzH159V",
        "outputId": "e5f0cdf9-00fc-40f0-b9ea-ae0660509ad2"
      },
      "execution_count": null,
      "outputs": [
        {
          "output_type": "execute_result",
          "data": {
            "text/plain": [
              "['Byjus', 'Programación', 'Clases']"
            ]
          },
          "metadata": {},
          "execution_count": 9
        }
      ]
    },
    {
      "cell_type": "markdown",
      "source": [
        "Indexación de una lista\n",
        "\n",
        "\n",
        "*   indexación **positiva**\n",
        "\n",
        "`inicia desde 0 al inicio de la lista`\n",
        "\n",
        "\n",
        "\n",
        "*   Indexación **negativa**\n",
        "\n",
        "\n",
        "`inicia desde -1 al final de la lista`\n",
        "\n",
        "\n",
        "\n",
        "\n"
      ],
      "metadata": {
        "id": "99BO8-Ga18AL"
      }
    },
    {
      "cell_type": "markdown",
      "source": [
        "Índice de un elemento\n",
        "El método index() puede ser utilizado para obtener el índice de un elemento desde el inicio de cualquier lista."
      ],
      "metadata": {
        "id": "YkFZaeQr2iP6"
      }
    },
    {
      "cell_type": "code",
      "source": [
        "list1.index(95)"
      ],
      "metadata": {
        "colab": {
          "base_uri": "https://localhost:8080/"
        },
        "id": "sDlEldhGybu9",
        "outputId": "10e4a34e-e7cd-47d5-d537-7a91e1a1251b"
      },
      "execution_count": null,
      "outputs": [
        {
          "output_type": "execute_result",
          "data": {
            "text/plain": [
              "1"
            ]
          },
          "metadata": {},
          "execution_count": 10
        }
      ]
    },
    {
      "cell_type": "markdown",
      "source": [
        "Accediendo a un elemento de la lista utilizando indexación positiva"
      ],
      "metadata": {
        "id": "15yW5kRZylct"
      }
    },
    {
      "cell_type": "code",
      "source": [
        "list1[0]"
      ],
      "metadata": {
        "colab": {
          "base_uri": "https://localhost:8080/"
        },
        "id": "5ehby5pEzQSY",
        "outputId": "51186c9f-88d0-4877-b97f-a91e30b2b438"
      },
      "execution_count": null,
      "outputs": [
        {
          "output_type": "execute_result",
          "data": {
            "text/plain": [
              "90"
            ]
          },
          "metadata": {},
          "execution_count": 12
        }
      ]
    },
    {
      "cell_type": "code",
      "source": [
        "list2[0]"
      ],
      "metadata": {
        "colab": {
          "base_uri": "https://localhost:8080/",
          "height": 35
        },
        "id": "BqktAbDezexY",
        "outputId": "7ad45d6f-0895-4910-f056-3f7cda75e0e1"
      },
      "execution_count": null,
      "outputs": [
        {
          "output_type": "execute_result",
          "data": {
            "application/vnd.google.colaboratory.intrinsic+json": {
              "type": "string"
            },
            "text/plain": [
              "'Byjus'"
            ]
          },
          "metadata": {},
          "execution_count": 13
        }
      ]
    },
    {
      "cell_type": "markdown",
      "source": [
        "Accediendo a un elemento de la lista utilizando indexación negativa"
      ],
      "metadata": {
        "id": "nms7Pj66zhoV"
      }
    },
    {
      "cell_type": "code",
      "source": [
        "list1[-1]"
      ],
      "metadata": {
        "colab": {
          "base_uri": "https://localhost:8080/"
        },
        "id": "WD868hp9zhVm",
        "outputId": "aa748bbe-cfb4-4b09-e100-859c35f807c0"
      },
      "execution_count": null,
      "outputs": [
        {
          "output_type": "execute_result",
          "data": {
            "text/plain": [
              "99"
            ]
          },
          "metadata": {},
          "execution_count": 14
        }
      ]
    },
    {
      "cell_type": "code",
      "source": [
        "list2[-1]"
      ],
      "metadata": {
        "colab": {
          "base_uri": "https://localhost:8080/",
          "height": 35
        },
        "id": "BdNBNkH3zocA",
        "outputId": "fa5765cb-e50a-422c-f307-3b4392bf249c"
      },
      "execution_count": null,
      "outputs": [
        {
          "output_type": "execute_result",
          "data": {
            "application/vnd.google.colaboratory.intrinsic+json": {
              "type": "string"
            },
            "text/plain": [
              "'Clases'"
            ]
          },
          "metadata": {},
          "execution_count": 15
        }
      ]
    },
    {
      "cell_type": "markdown",
      "source": [
        "Accediendo a un elemento de la lista utilizando el operador slice\n",
        "\n",
        "El operador slice(:) nos ayuda a acceder a los elementos de la lista** dentro de un rango** de valores de índice especificados "
      ],
      "metadata": {
        "id": "6srGtkc6zrvT"
      }
    },
    {
      "cell_type": "code",
      "source": [
        "list1[0:2]"
      ],
      "metadata": {
        "colab": {
          "base_uri": "https://localhost:8080/"
        },
        "id": "rAbC8t7Tzp0D",
        "outputId": "f1f3eede-8d03-47c5-ca6f-7cb287e6a612"
      },
      "execution_count": null,
      "outputs": [
        {
          "output_type": "execute_result",
          "data": {
            "text/plain": [
              "[90, 95]"
            ]
          },
          "metadata": {},
          "execution_count": 16
        }
      ]
    },
    {
      "cell_type": "code",
      "source": [
        "list2[0:2]"
      ],
      "metadata": {
        "colab": {
          "base_uri": "https://localhost:8080/"
        },
        "id": "w2aqBVHk0PDM",
        "outputId": "9104b8d8-dbfd-4f92-8fdf-9cbdb6d8d857"
      },
      "execution_count": null,
      "outputs": [
        {
          "output_type": "execute_result",
          "data": {
            "text/plain": [
              "['Byjus', 'Programación']"
            ]
          },
          "metadata": {},
          "execution_count": 17
        }
      ]
    },
    {
      "cell_type": "markdown",
      "source": [
        "**Nota**: para obtener todos los valores de la lista utilizando el operador slice, deberíamos especificar stop index uno más que la longitud del elemento."
      ],
      "metadata": {
        "id": "Si_89iPm0ccZ"
      }
    },
    {
      "cell_type": "code",
      "source": [
        "list1[0:5]"
      ],
      "metadata": {
        "colab": {
          "base_uri": "https://localhost:8080/"
        },
        "id": "8ih8esiI-p2G",
        "outputId": "d34d5ae8-ce17-4bf0-812e-6d5ea15729dd"
      },
      "execution_count": null,
      "outputs": [
        {
          "output_type": "execute_result",
          "data": {
            "text/plain": [
              "[90, 95, 92, 97, 99]"
            ]
          },
          "metadata": {},
          "execution_count": 18
        }
      ]
    },
    {
      "cell_type": "code",
      "source": [
        "list2[0:3]"
      ],
      "metadata": {
        "colab": {
          "base_uri": "https://localhost:8080/"
        },
        "id": "Zc4ft0VrBsrP",
        "outputId": "1ec9e4b9-c33c-4941-e031-d5b549769111"
      },
      "execution_count": null,
      "outputs": [
        {
          "output_type": "execute_result",
          "data": {
            "text/plain": [
              "['Byjus', 'Programación', 'Clases']"
            ]
          },
          "metadata": {},
          "execution_count": 19
        }
      ]
    },
    {
      "cell_type": "markdown",
      "source": [
        "Operador slice con índice negativo"
      ],
      "metadata": {
        "id": "SZJMsl1eCKFb"
      }
    },
    {
      "cell_type": "code",
      "source": [
        "list1[-5:-3]"
      ],
      "metadata": {
        "colab": {
          "base_uri": "https://localhost:8080/"
        },
        "id": "cJdxDOTnCMlL",
        "outputId": "34d080cc-c44a-4962-ef8f-15275c11b986"
      },
      "execution_count": null,
      "outputs": [
        {
          "output_type": "execute_result",
          "data": {
            "text/plain": [
              "[90, 95]"
            ]
          },
          "metadata": {},
          "execution_count": 20
        }
      ]
    },
    {
      "cell_type": "code",
      "source": [
        "list1[1:3]"
      ],
      "metadata": {
        "colab": {
          "base_uri": "https://localhost:8080/"
        },
        "id": "gzqLu4wMCSDa",
        "outputId": "2942ba07-f0f7-4046-e238-5eafa24739ad"
      },
      "execution_count": null,
      "outputs": [
        {
          "output_type": "execute_result",
          "data": {
            "text/plain": [
              "[95, 92]"
            ]
          },
          "metadata": {},
          "execution_count": 21
        }
      ]
    },
    {
      "cell_type": "code",
      "source": [
        "list1[-4:-2]"
      ],
      "metadata": {
        "colab": {
          "base_uri": "https://localhost:8080/"
        },
        "id": "INUBZSvuCU8Y",
        "outputId": "f2e0034a-6f28-470c-aa57-42b2ca47f586"
      },
      "execution_count": null,
      "outputs": [
        {
          "output_type": "execute_result",
          "data": {
            "text/plain": [
              "[95, 92]"
            ]
          },
          "metadata": {},
          "execution_count": 22
        }
      ]
    },
    {
      "cell_type": "markdown",
      "source": [
        "Bucles for"
      ],
      "metadata": {
        "id": "0s-1Na7pCf-3"
      }
    },
    {
      "cell_type": "markdown",
      "source": [
        "**Sintaxis 1:**\n",
        "\n",
        "\n",
        "\n",
        "\n",
        "```\n",
        "for repetition_var in sequence:\n",
        "  declaración 1\n",
        "  declaración 2\n",
        "  ...........\n",
        "  ...........\n",
        "  ...........\n",
        "  declaración 10\n",
        "```\n",
        "\n",
        "\n",
        "\n"
      ],
      "metadata": {
        "id": "KwZX1QalChfm"
      }
    },
    {
      "cell_type": "markdown",
      "source": [
        "**Sintaxis 2:**\n",
        "\n",
        "\n",
        "\n",
        "```\n",
        "for repetition_var in range(start_val, end_val, staps):\n",
        "  declaración 1\n",
        "  declaración 2\n",
        "  ..........\n",
        "  ..........\n",
        "  ..........\n",
        "  declaración 10\n",
        "\n",
        "\n",
        "\n",
        "\n",
        "```\n",
        "\n"
      ],
      "metadata": {
        "id": "EmHZUqyBC_Bu"
      }
    },
    {
      "cell_type": "markdown",
      "source": [
        "Palabras clave\n",
        "\n",
        "**for:** la palabra clave for es utilizada para marcar el inicio del bucle for.\n",
        "\n",
        "**In:**\n",
        "\n",
        "\n"
      ],
      "metadata": {
        "id": "DnirnAIPDUmu"
      }
    },
    {
      "cell_type": "markdown",
      "source": [
        "Variables:\n",
        "\n",
        "**repetition_var:**\n",
        "\n",
        "**sequence:**"
      ],
      "metadata": {
        "id": "tNvDVsuGDyvn"
      }
    },
    {
      "cell_type": "markdown",
      "source": [
        "Accediendo a un elemento de la lista utilizando el bucle for"
      ],
      "metadata": {
        "id": "NYNTyls2D7Vn"
      }
    },
    {
      "cell_type": "code",
      "source": [
        "for elem in list1:\n",
        "  print(elem)"
      ],
      "metadata": {
        "colab": {
          "base_uri": "https://localhost:8080/"
        },
        "id": "mKvZcOeZC-ub",
        "outputId": "ecf19735-4309-43d2-b581-24281c5cbd9c"
      },
      "execution_count": null,
      "outputs": [
        {
          "output_type": "stream",
          "name": "stdout",
          "text": [
            "90\n",
            "95\n",
            "92\n",
            "97\n",
            "99\n"
          ]
        }
      ]
    },
    {
      "cell_type": "code",
      "source": [
        "for elem in list2:\n",
        "  print(elem)"
      ],
      "metadata": {
        "colab": {
          "base_uri": "https://localhost:8080/"
        },
        "id": "dNy66wnpEQ9r",
        "outputId": "97d6e968-b4f2-452e-fdd2-359bfcf04131"
      },
      "execution_count": null,
      "outputs": [
        {
          "output_type": "stream",
          "name": "stdout",
          "text": [
            "Byjus\n",
            "Programación\n",
            "Clases\n"
          ]
        }
      ]
    },
    {
      "cell_type": "markdown",
      "source": [
        "Rango de números"
      ],
      "metadata": {
        "id": "xfrEECGcEVtF"
      }
    },
    {
      "cell_type": "code",
      "source": [
        "range(0,5)"
      ],
      "metadata": {
        "colab": {
          "base_uri": "https://localhost:8080/"
        },
        "id": "rPo2SabzEVBF",
        "outputId": "98bde7c6-d13a-40db-af00-5bb17dd22208"
      },
      "execution_count": null,
      "outputs": [
        {
          "output_type": "execute_result",
          "data": {
            "text/plain": [
              "range(0, 5)"
            ]
          },
          "metadata": {},
          "execution_count": 25
        }
      ]
    },
    {
      "cell_type": "code",
      "source": [
        "print(range(0,5))"
      ],
      "metadata": {
        "colab": {
          "base_uri": "https://localhost:8080/"
        },
        "id": "_htwmw2cEfbm",
        "outputId": "296bc840-f7f9-4544-cc8c-551b12651ff3"
      },
      "execution_count": null,
      "outputs": [
        {
          "output_type": "stream",
          "name": "stdout",
          "text": [
            "range(0, 5)\n"
          ]
        }
      ]
    },
    {
      "cell_type": "code",
      "source": [
        "for i in range(0,5):\n",
        "    print(i)"
      ],
      "metadata": {
        "colab": {
          "base_uri": "https://localhost:8080/"
        },
        "id": "Ddu4uXwfE7U-",
        "outputId": "22fd1eed-5c4e-4c4a-a97e-5b6f7cb85bd6"
      },
      "execution_count": null,
      "outputs": [
        {
          "output_type": "stream",
          "name": "stdout",
          "text": [
            "0\n",
            "1\n",
            "2\n",
            "3\n",
            "4\n"
          ]
        }
      ]
    },
    {
      "cell_type": "code",
      "source": [
        "for i in range(0,5,2):\n",
        "    print(i)"
      ],
      "metadata": {
        "colab": {
          "base_uri": "https://localhost:8080/"
        },
        "id": "1pdaTJZWFKbt",
        "outputId": "84147ffb-094e-48b2-8e95-c2cea61edfb8"
      },
      "execution_count": null,
      "outputs": [
        {
          "output_type": "stream",
          "name": "stdout",
          "text": [
            "0\n",
            "2\n",
            "4\n"
          ]
        }
      ]
    },
    {
      "cell_type": "code",
      "source": [
        "for i in range(5,0,-1):\n",
        "    print(i)"
      ],
      "metadata": {
        "colab": {
          "base_uri": "https://localhost:8080/"
        },
        "id": "pJ7UN3JbFUw4",
        "outputId": "bec6f70a-1bc0-4a20-dd11-28863fd8252a"
      },
      "execution_count": null,
      "outputs": [
        {
          "output_type": "stream",
          "name": "stdout",
          "text": [
            "5\n",
            "4\n",
            "3\n",
            "2\n",
            "1\n"
          ]
        }
      ]
    },
    {
      "cell_type": "markdown",
      "source": [
        "# Actividad del alumno"
      ],
      "metadata": {
        "id": "jYVrsQQcFnGS"
      }
    },
    {
      "cell_type": "markdown",
      "source": [
        "Cuenta la recurrencia del elemento en la lista\n",
        "\n",
        "[75, 98, 89, 86, 79, 62, 78, 61, 90, 97, 92, 61, 64, 97, 82, 69, 87, 96, 65, 75, 85, 76, 95, 83, 62, 80, 80, 77, 94, 71, 86, 94, 85, 99, 77, 68, 92, 91, 99, 90]"
      ],
      "metadata": {
        "id": "ar9Fv7sIFs5b"
      }
    },
    {
      "cell_type": "code",
      "source": [
        "list_of_marks = [75, 98, 89, 86, 79, 62, 78, 61, 90, 97, 92, 61, 64, 97, 82, 69, 87, 96, 65, 75, 85, 76, 95, 83, 62, 80, 80, 77, 94, 71, 86, 94, 85, 99, 77, 68, 92, 91, 99, 90]"
      ],
      "metadata": {
        "id": "sAmy0Yf6F7Rg"
      },
      "execution_count": null,
      "outputs": []
    },
    {
      "cell_type": "code",
      "source": [
        "count = 0;\n",
        "\n",
        "check_num = 62\n",
        "\n",
        "for elem in list_of_marks:\n",
        "  if (check_num == elem):\n",
        "    count = count + 1\n",
        "\n",
        "print(count)"
      ],
      "metadata": {
        "colab": {
          "base_uri": "https://localhost:8080/"
        },
        "id": "JSfpPMoQGAmZ",
        "outputId": "2f2f3bb8-061c-426b-f7b5-f18ce58e111c"
      },
      "execution_count": null,
      "outputs": [
        {
          "output_type": "stream",
          "name": "stdout",
          "text": [
            "2\n"
          ]
        }
      ]
    },
    {
      "cell_type": "markdown",
      "source": [
        "# Actividad adicional"
      ],
      "metadata": {
        "id": "oqmnvAVdG7RE"
      }
    },
    {
      "cell_type": "markdown",
      "source": [
        "Tuple"
      ],
      "metadata": {
        "id": "hQoIoRZAHIA2"
      }
    },
    {
      "cell_type": "markdown",
      "source": [
        "Tuple vacía"
      ],
      "metadata": {
        "id": "WHKpXXF0HJLN"
      }
    },
    {
      "cell_type": "code",
      "source": [
        "tuple1 = ()"
      ],
      "metadata": {
        "id": "3WbEdqBrHEU_"
      },
      "execution_count": null,
      "outputs": []
    },
    {
      "cell_type": "markdown",
      "source": [
        "Tuple no vacía"
      ],
      "metadata": {
        "id": "o2SSqoVLHbtV"
      }
    },
    {
      "cell_type": "code",
      "source": [
        "tuple2 = (5,2,9,2,80)"
      ],
      "metadata": {
        "id": "bUJS4CtiHdDF"
      },
      "execution_count": null,
      "outputs": []
    },
    {
      "cell_type": "code",
      "source": [
        "print(tuple2)"
      ],
      "metadata": {
        "colab": {
          "base_uri": "https://localhost:8080/"
        },
        "id": "0g2bLSgOHi3v",
        "outputId": "140a1daa-6e9e-4b22-8025-3818c516ea6e"
      },
      "execution_count": null,
      "outputs": [
        {
          "output_type": "stream",
          "name": "stdout",
          "text": [
            "(5, 2, 9, 2, 80)\n"
          ]
        }
      ]
    },
    {
      "cell_type": "markdown",
      "source": [
        "Accediendo a un elemento de tuple"
      ],
      "metadata": {
        "id": "eNwmMsFVHldS"
      }
    },
    {
      "cell_type": "code",
      "source": [
        "tuple2[0]"
      ],
      "metadata": {
        "colab": {
          "base_uri": "https://localhost:8080/"
        },
        "id": "8IkyPBBEHoOB",
        "outputId": "b14badc2-4543-4b53-dccc-0e8a6083caaf"
      },
      "execution_count": null,
      "outputs": [
        {
          "output_type": "execute_result",
          "data": {
            "text/plain": [
              "5"
            ]
          },
          "metadata": {},
          "execution_count": 39
        }
      ]
    },
    {
      "cell_type": "markdown",
      "source": [
        "Accediendo a elemntos utilizando el operador slice"
      ],
      "metadata": {
        "id": "OYB9nTUwHv0r"
      }
    },
    {
      "cell_type": "code",
      "source": [
        "tuple2[0:3]"
      ],
      "metadata": {
        "colab": {
          "base_uri": "https://localhost:8080/"
        },
        "id": "v3VZUqZwHzRl",
        "outputId": "239567d3-2563-4b74-8aa5-674755f75e18"
      },
      "execution_count": null,
      "outputs": [
        {
          "output_type": "execute_result",
          "data": {
            "text/plain": [
              "(5, 2, 9)"
            ]
          },
          "metadata": {},
          "execution_count": 40
        }
      ]
    },
    {
      "cell_type": "markdown",
      "source": [
        "La diferencia entre lista y tuple"
      ],
      "metadata": {
        "id": "_VuiDJc3H2wi"
      }
    },
    {
      "cell_type": "code",
      "source": [
        "new_list = [5,2,9,2,80]"
      ],
      "metadata": {
        "id": "DuQDw4k8H7TR"
      },
      "execution_count": null,
      "outputs": []
    },
    {
      "cell_type": "code",
      "source": [
        "#imprime el cuarto elemento de la lista\n",
        "new_list[4]"
      ],
      "metadata": {
        "colab": {
          "base_uri": "https://localhost:8080/"
        },
        "id": "K9xzVfj6IFnt",
        "outputId": "c72edfb3-39de-47c0-f505-7ebb6cee1b33"
      },
      "execution_count": null,
      "outputs": [
        {
          "output_type": "execute_result",
          "data": {
            "text/plain": [
              "80"
            ]
          },
          "metadata": {},
          "execution_count": 42
        }
      ]
    },
    {
      "cell_type": "code",
      "source": [
        "#Cambia el cuarto elemento de la lista\n",
        "new_list[4]=90"
      ],
      "metadata": {
        "id": "__8sgPv3IKYD"
      },
      "execution_count": null,
      "outputs": []
    },
    {
      "cell_type": "code",
      "source": [
        "#imprime el cuarto elemento de la lista otra vez\n",
        "new_list[4]"
      ],
      "metadata": {
        "colab": {
          "base_uri": "https://localhost:8080/"
        },
        "id": "Oi5OPvTyIP7q",
        "outputId": "cfb5d35d-a74e-44e7-ecc8-9850863545c0"
      },
      "execution_count": null,
      "outputs": [
        {
          "output_type": "execute_result",
          "data": {
            "text/plain": [
              "90"
            ]
          },
          "metadata": {},
          "execution_count": 44
        }
      ]
    },
    {
      "cell_type": "code",
      "source": [
        "new_list"
      ],
      "metadata": {
        "colab": {
          "base_uri": "https://localhost:8080/"
        },
        "id": "bIxnfedZIWHv",
        "outputId": "cee406ad-3f47-4436-ee6a-498a228d6c46"
      },
      "execution_count": null,
      "outputs": [
        {
          "output_type": "execute_result",
          "data": {
            "text/plain": [
              "[5, 2, 9, 2, 90]"
            ]
          },
          "metadata": {},
          "execution_count": 45
        }
      ]
    },
    {
      "cell_type": "code",
      "source": [
        "new_tuple = (5,2,9,2,80)"
      ],
      "metadata": {
        "id": "176liPc9IoHV"
      },
      "execution_count": null,
      "outputs": []
    },
    {
      "cell_type": "code",
      "source": [
        "#imprime el cuarto elemento de la tuple\n",
        "new_tuple[4]"
      ],
      "metadata": {
        "colab": {
          "base_uri": "https://localhost:8080/"
        },
        "id": "_o7EjFx8Isnq",
        "outputId": "aa00b04d-e209-493c-c3a5-85e1a0098c75"
      },
      "execution_count": null,
      "outputs": [
        {
          "output_type": "execute_result",
          "data": {
            "text/plain": [
              "80"
            ]
          },
          "metadata": {},
          "execution_count": 48
        }
      ]
    },
    {
      "cell_type": "code",
      "source": [
        "#cambia el cuarto elemento de tuple\n",
        "# new_tuple[4]=90"
      ],
      "metadata": {
        "id": "f6gWkqWrI5n2"
      },
      "execution_count": null,
      "outputs": []
    },
    {
      "cell_type": "code",
      "source": [
        "#imprime el cuarto elemento de tuple otra vez\n",
        "new_tuple[4]"
      ],
      "metadata": {
        "colab": {
          "base_uri": "https://localhost:8080/"
        },
        "id": "3pHkKhitJAR2",
        "outputId": "c69723f1-c3e2-46e6-9cc7-a1d42449b638"
      },
      "execution_count": null,
      "outputs": [
        {
          "output_type": "execute_result",
          "data": {
            "text/plain": [
              "80"
            ]
          },
          "metadata": {},
          "execution_count": 50
        }
      ]
    },
    {
      "cell_type": "code",
      "source": [
        "new_tuple"
      ],
      "metadata": {
        "colab": {
          "base_uri": "https://localhost:8080/"
        },
        "id": "nnWUWMZzJElg",
        "outputId": "8b136159-c770-4295-ef9c-190b9faafb2e"
      },
      "execution_count": null,
      "outputs": [
        {
          "output_type": "execute_result",
          "data": {
            "text/plain": [
              "(5, 2, 9, 2, 80)"
            ]
          },
          "metadata": {},
          "execution_count": 51
        }
      ]
    }
  ]
}