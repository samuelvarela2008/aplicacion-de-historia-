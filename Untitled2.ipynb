{
  "nbformat": 4,
  "nbformat_minor": 0,
  "metadata": {
    "colab": {
      "provenance": [],
      "authorship_tag": "ABX9TyNbVJMcEJwRuwRmKUsbagIc",
      "include_colab_link": true
    },
    "kernelspec": {
      "name": "python3",
      "display_name": "Python 3"
    },
    "language_info": {
      "name": "python"
    }
  },
  "cells": [
    {
      "cell_type": "markdown",
      "metadata": {
        "id": "view-in-github",
        "colab_type": "text"
      },
      "source": [
        "<a href=\"https://colab.research.google.com/github/samuelvarela2008/aplicacion-de-historia-/blob/main/Untitled2.ipynb\" target=\"_parent\"><img src=\"https://colab.research.google.com/assets/colab-badge.svg\" alt=\"Open In Colab\"/></a>"
      ]
    },
    {
      "cell_type": "code",
      "execution_count": null,
      "metadata": {
        "colab": {
          "base_uri": "https://localhost:8080/"
        },
        "id": "OJOq78G1dj14",
        "outputId": "2fb2f869-e269-4fbb-cc96-a611d2566271"
      },
      "outputs": [
        {
          "output_type": "stream",
          "name": "stdout",
          "text": [
            "* * * *\n",
            "* * *\n",
            "* *\n",
            "*\n"
          ]
        }
      ],
      "source": [
        "print(\"*\",\"*\",\"*\",\"*\") \n",
        "print(\"*\",\"*\",\"*\")\n",
        "print(\"*\",\"*\")\n",
        "print(\"*\")"
      ]
    },
    {
      "cell_type": "code",
      "source": [
        "num =  int(input(\"ingresa el numero de filas:\"))"
      ],
      "metadata": {
        "id": "YyqiVr_jfuzw",
        "colab": {
          "base_uri": "https://localhost:8080/"
        },
        "outputId": "747f84f9-8c1d-4dd6-f3ef-75953234ff62"
      },
      "execution_count": null,
      "outputs": [
        {
          "name": "stdout",
          "output_type": "stream",
          "text": [
            "ingresa el numero de filas:6\n"
          ]
        }
      ]
    },
    {
      "cell_type": "code",
      "source": [
        "for i in range (0,num):\n",
        "  for j in range (2,i +1):\n",
        "    print(j, end=\"\")\n",
        "  print()\n"
      ],
      "metadata": {
        "id": "nnXsGeUIgtMb",
        "colab": {
          "base_uri": "https://localhost:8080/"
        },
        "outputId": "af929320-caf9-4d2f-e0cb-b1c429c5bace"
      },
      "execution_count": null,
      "outputs": [
        {
          "output_type": "stream",
          "name": "stdout",
          "text": [
            "\n",
            "\n",
            "2\n",
            "23\n",
            "234\n",
            "2345\n"
          ]
        }
      ]
    }
  ]
}